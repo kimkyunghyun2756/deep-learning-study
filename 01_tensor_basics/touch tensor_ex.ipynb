{
 "cells": [
  {
   "cell_type": "code",
   "execution_count": 5,
   "id": "66e9bdfd",
   "metadata": {},
   "outputs": [],
   "source": [
    "# 🧪 텐서 기초 실습 - PyTorch\n",
    "\n",
    "import torch\n"
   ]
  },
  {
   "cell_type": "code",
   "execution_count": 7,
   "id": "5df4a516",
   "metadata": {},
   "outputs": [
    {
     "name": "stdout",
     "output_type": "stream",
     "text": [
      "1D Tensor: tensor([1., 2., 3.])\n"
     ]
    }
   ],
   "source": [
    "\n",
    "# 1차원 텐서 생성\n",
    "a = torch.tensor([1.0, 2.0, 3.0])\n",
    "print(\"1D Tensor:\", a)\n"
   ]
  },
  {
   "cell_type": "code",
   "execution_count": 8,
   "id": "29c755c0",
   "metadata": {},
   "outputs": [
    {
     "name": "stdout",
     "output_type": "stream",
     "text": [
      "2D Tensor:\n",
      " tensor([[1, 2],\n",
      "        [3, 4]])\n"
     ]
    }
   ],
   "source": [
    "\n",
    "# 2차원 텐서 (행렬) 생성\n",
    "b = torch.tensor([[1, 2], [3, 4]])\n",
    "print(\"2D Tensor:\\n\", b)\n"
   ]
  },
  {
   "cell_type": "code",
   "execution_count": 9,
   "id": "e1a4e409",
   "metadata": {},
   "outputs": [
    {
     "name": "stdout",
     "output_type": "stream",
     "text": [
      "Shape of b: torch.Size([2, 2])\n"
     ]
    }
   ],
   "source": [
    "\n",
    "# 텐서의 형태(shape)\n",
    "print(\"Shape of b:\", b.shape)\n"
   ]
  },
  {
   "cell_type": "code",
   "execution_count": 10,
   "id": "9f640044",
   "metadata": {},
   "outputs": [
    {
     "name": "stdout",
     "output_type": "stream",
     "text": [
      "Random Tensor:\n",
      " tensor([[0.7313, 0.7501, 0.8349],\n",
      "        [0.6566, 0.6046, 0.6279]])\n"
     ]
    }
   ],
   "source": [
    "\n",
    "# 0~1 사이 랜덤값 텐서\n",
    "c = torch.rand(2, 3)\n",
    "print(\"Random Tensor:\\n\", c)\n"
   ]
  },
  {
   "cell_type": "code",
   "execution_count": 11,
   "id": "20d5b513",
   "metadata": {},
   "outputs": [
    {
     "name": "stdout",
     "output_type": "stream",
     "text": [
      "Changed to int:\n",
      " tensor([[0, 0, 0],\n",
      "        [0, 0, 0]], dtype=torch.int32)\n"
     ]
    }
   ],
   "source": [
    "\n",
    "# 텐서 타입 변경\n",
    "d = c.int()\n",
    "print(\"Changed to int:\\n\", d)\n"
   ]
  },
  {
   "cell_type": "code",
   "execution_count": 12,
   "id": "78af1556",
   "metadata": {},
   "outputs": [
    {
     "name": "stdout",
     "output_type": "stream",
     "text": [
      "덧셈: tensor([4., 6.])\n",
      "곱셈: tensor([3., 8.])\n"
     ]
    }
   ],
   "source": [
    "\n",
    "# 텐서 연산 (덧셈, 곱셈)\n",
    "x = torch.tensor([1.0, 2.0])\n",
    "y = torch.tensor([3.0, 4.0])\n",
    "print(\"덧셈:\", x + y)\n",
    "print(\"곱셈:\", x * y)  # 원소별 곱\n"
   ]
  },
  {
   "cell_type": "code",
   "execution_count": null,
   "id": "1c45ccd8",
   "metadata": {},
   "outputs": [
    {
     "name": "stdout",
     "output_type": "stream",
     "text": [
      "행렬 곱 결과: tensor([[11]])\n"
     ]
    }
   ],
   "source": [
    "\n",
    "# 행렬 곱 (dot product)\n",
    "# 행렬 곱 조건: 앞 행렬의 열 수 == 뒤 행렬의 행 수\n",
    "z = torch.matmul(torch.tensor([[1, 2]]), torch.tensor([[3], [4]]))\n",
    "print(\"행렬 곱 결과:\", z)\n"
   ]
  }
 ],
 "metadata": {
  "kernelspec": {
   "display_name": "base",
   "language": "python",
   "name": "python3"
  },
  "language_info": {
   "codemirror_mode": {
    "name": "ipython",
    "version": 3
   },
   "file_extension": ".py",
   "mimetype": "text/x-python",
   "name": "python",
   "nbconvert_exporter": "python",
   "pygments_lexer": "ipython3",
   "version": "3.11.3"
  }
 },
 "nbformat": 4,
 "nbformat_minor": 5
}
