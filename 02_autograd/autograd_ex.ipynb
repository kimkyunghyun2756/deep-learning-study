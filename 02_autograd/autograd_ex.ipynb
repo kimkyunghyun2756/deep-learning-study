{
 "cells": [
  {
   "cell_type": "code",
   "execution_count": 2,
   "id": "7a6030de",
   "metadata": {},
   "outputs": [],
   "source": [
    "import torch"
   ]
  },
  {
   "cell_type": "code",
   "execution_count": 3,
   "id": "e915699c",
   "metadata": {},
   "outputs": [],
   "source": [
    "# requires_grad=True 설정 → autograd로 추적 가능\n",
    "x = torch.tensor([2.0], requires_grad=True)\n",
    "w = torch.tensor([3.0], requires_grad=True)\n",
    "b = torch.tensor([1.0], requires_grad=True)\n"
   ]
  },
  {
   "cell_type": "code",
   "execution_count": 5,
   "id": "17001555",
   "metadata": {},
   "outputs": [],
   "source": [
    "# 순전파: y = wx + b\n",
    "y = w * x + b  # y = 3*2 + 1 = 7\n",
    "\n",
    "# 더 복잡한 연산 추가: z = y^2\n",
    "z = y ** 2     # z = 49\n"
   ]
  },
  {
   "cell_type": "code",
   "execution_count": null,
   "id": "5438efda",
   "metadata": {},
   "outputs": [],
   "source": [
    "# 자동 미분 수행\n",
    "z.backward()\n",
    "\n",
    "# 각 변수에 대한 기울기 확인\n",
    "print(\"dz/dx =\", x.grad)  # 2 * y * w\n",
    "print(\"dz/dw =\", w.grad)  # 2 * y * x\n",
    "print(\"dz/db =\", b.grad)  # 2 * y\n"
   ]
  },
  {
   "cell_type": "code",
   "execution_count": null,
   "id": "7ab2f45f",
   "metadata": {},
   "outputs": [
    {
     "name": "stdout",
     "output_type": "stream",
     "text": [
      "y2 (no grad): tensor([7.])\n"
     ]
    }
   ],
   "source": [
    "# Autograd 비활성화 예시\n",
    "with torch.no_grad():\n",
    "    y2 = w * x + b  # 이 연산은 autograd로 추적되지 않음\n",
    "    print(\"y2 (no grad):\", y2)\n"
   ]
  },
  {
   "cell_type": "code",
   "execution_count": null,
   "id": "2545ec6f",
   "metadata": {},
   "outputs": [
    {
     "data": {
      "text/plain": [
       "tensor([0.])"
      ]
     },
     "execution_count": 11,
     "metadata": {},
     "output_type": "execute_result"
    }
   ],
   "source": [
    "# 그래디언트 초기화 (중복 backward 방지)\n",
    "# 반복 학습 시에는 grad 값을 수동 초기화해야 함\n",
    "x.grad.zero_()\n",
    "w.grad.zero_()\n",
    "b.grad.zero_()\n"
   ]
  }
 ],
 "metadata": {
  "kernelspec": {
   "display_name": "base",
   "language": "python",
   "name": "python3"
  },
  "language_info": {
   "codemirror_mode": {
    "name": "ipython",
    "version": 3
   },
   "file_extension": ".py",
   "mimetype": "text/x-python",
   "name": "python",
   "nbconvert_exporter": "python",
   "pygments_lexer": "ipython3",
   "version": "3.11.3"
  }
 },
 "nbformat": 4,
 "nbformat_minor": 5
}
