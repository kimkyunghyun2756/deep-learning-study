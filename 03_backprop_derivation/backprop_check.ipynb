{
 "cells": [
  {
   "cell_type": "code",
   "execution_count": null,
   "id": "92a6050f",
   "metadata": {},
   "outputs": [],
   "source": [
    "import torch\n",
    "\n",
    "# 수동 설정값\n",
    "x = torch.tensor([2.0], requires_grad=True)\n",
    "w = torch.tensor([3.0], requires_grad=True)\n",
    "b = torch.tensor([1.0], requires_grad=True)\n",
    "\n",
    "# forward 계산\n",
    "y = w * x + b       # y = 7\n",
    "z = y ** 2          # z = 49\n",
    "\n",
    "# backward\n",
    "z.backward()\n",
    "\n",
    "# 결과 확인\n",
    "print(\"x.grad (Expected 42):\", x.grad)  # 2 * y * w = 42\n",
    "print(\"w.grad (Expected 28):\", w.grad)  # 2 * y * x = 28\n",
    "print(\"b.grad (Expected 14):\", b.grad)  # 2 * y = 14\n"
   ]
  }
 ],
 "metadata": {
  "language_info": {
   "name": "python"
  }
 },
 "nbformat": 4,
 "nbformat_minor": 5
}
