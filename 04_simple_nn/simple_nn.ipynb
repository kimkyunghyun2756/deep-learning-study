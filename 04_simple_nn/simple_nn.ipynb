{
 "cells": [
  {
   "cell_type": "code",
   "execution_count": null,
   "id": "27b4a402",
   "metadata": {},
   "outputs": [
    {
     "name": "stdout",
     "output_type": "stream",
     "text": [
      "모델 출력: tensor([[-0.1522]], grad_fn=<AddmmBackward0>)\n"
     ]
    }
   ],
   "source": [
    "\n",
    "import torch\n",
    "import torch.nn as nn\n",
    "\n",
    "# 신경망 클래스 정의\n",
    "class SimpleNN(nn.Module): # SimpleNN은 PyTorch의 nn.Module을 상속해서 만든 클래스\n",
    "    def __init__(self):\n",
    "        # super().__init__() 은 부모 클래스인 nn.Module의 초기화 메서드를 호출.\n",
    "        super().__init__() # PyTorch 내부 기능들 (예: model.parameters(), .to(device)) 이 제대로 작동하게 하려면 반드시 이 줄이 필요\n",
    "\n",
    "        # nn.Linear(in_features, out_features) 는 완전 연결 계층 (fully connected layer) 을 만든다.\n",
    "        # 2: 입력의 차원 = 입력 벡터의 원소 개수 (예: [1.0, 2.0])\n",
    "        # 3: 출력의 차원 = 은닉 노드의 개수 = 출력 벡터 크기\n",
    "        self.layer1 = nn.Linear(2, 3)     # 입력 2 → 은닉 3\n",
    "        # 입력이 2개 들어오면, 은닉층 노드 3개 각각에 연결되어 총 3 x 2개의 가중치를 갖는 연산이 일어남\n",
    "\n",
    "        self.layer2 = nn.Linear(3, 1)     # 은닉 3 → 출력 1\n",
    "\n",
    "    def forward(self, x):\n",
    "        # 첫 번째 선형 계층 이후에는 비선형성(ReLU) 을 적용해서 비선형 함수 근사가 가능하게 만듦.\n",
    "        # 두 번째 계층은 출력층이라 보통은 활성화 함수를 생략하거나, 나중에 목적에 맞는 함수를 따로 붙여 (예: sigmoid, softmax)\n",
    "        # 은닉층에는 비선형 함수(ReLU)를 반드시 넣어야 함\n",
    "        # 출력층은 문제 유형에 따라 나중에 따로 처리\n",
    "        x = torch.relu(self.layer1(x))   # 활성화 함수 ReLU 적용\n",
    "        x = self.layer2(x) # 여기는 선형만 적용\n",
    "        return x\n",
    "\n",
    "# 모델 생성\n",
    "model = SimpleNN()\n",
    "\n",
    "# 임의의 입력값\n",
    "x_input = torch.tensor([[1.0, 2.0]])\n",
    "output = model(x_input)\n",
    "\n",
    "print(\"모델 출력:\", output)\n"
   ]
  },
  {
   "cell_type": "code",
   "execution_count": null,
   "id": "9c122481",
   "metadata": {},
   "outputs": [],
   "source": []
  }
 ],
 "metadata": {
  "kernelspec": {
   "display_name": "base",
   "language": "python",
   "name": "python3"
  },
  "language_info": {
   "codemirror_mode": {
    "name": "ipython",
    "version": 3
   },
   "file_extension": ".py",
   "mimetype": "text/x-python",
   "name": "python",
   "nbconvert_exporter": "python",
   "pygments_lexer": "ipython3",
   "version": "3.11.3"
  }
 },
 "nbformat": 4,
 "nbformat_minor": 5
}
