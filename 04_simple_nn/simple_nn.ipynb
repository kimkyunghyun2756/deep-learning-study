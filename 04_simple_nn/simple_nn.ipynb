{
 "cells": [
  {
   "cell_type": "code",
   "execution_count": 1,
   "id": "27b4a402",
   "metadata": {},
   "outputs": [
    {
     "name": "stdout",
     "output_type": "stream",
     "text": [
      "모델 출력: tensor([[-0.0828]], grad_fn=<AddmmBackward0>)\n"
     ]
    }
   ],
   "source": [
    "\n",
    "import torch\n",
    "import torch.nn as nn\n",
    "\n",
    "# 신경망 클래스 정의\n",
    "class SimpleNN(nn.Module):\n",
    "    def __init__(self):\n",
    "        super().__init__()\n",
    "        self.layer1 = nn.Linear(2, 3)     # 입력 2 → 은닉 3\n",
    "        self.layer2 = nn.Linear(3, 1)     # 은닉 3 → 출력 1\n",
    "\n",
    "    def forward(self, x):\n",
    "        x = torch.relu(self.layer1(x))   # 활성화 함수 ReLU 적용\n",
    "        x = self.layer2(x)\n",
    "        return x\n",
    "\n",
    "# 모델 생성\n",
    "model = SimpleNN()\n",
    "\n",
    "# 임의의 입력값\n",
    "x_input = torch.tensor([[1.0, 2.0]])\n",
    "output = model(x_input)\n",
    "\n",
    "print(\"모델 출력:\", output)\n"
   ]
  },
  {
   "cell_type": "code",
   "execution_count": null,
   "id": "9c122481",
   "metadata": {},
   "outputs": [],
   "source": []
  }
 ],
 "metadata": {
  "kernelspec": {
   "display_name": "base",
   "language": "python",
   "name": "python3"
  },
  "language_info": {
   "codemirror_mode": {
    "name": "ipython",
    "version": 3
   },
   "file_extension": ".py",
   "mimetype": "text/x-python",
   "name": "python",
   "nbconvert_exporter": "python",
   "pygments_lexer": "ipython3",
   "version": "3.11.3"
  }
 },
 "nbformat": 4,
 "nbformat_minor": 5
}
